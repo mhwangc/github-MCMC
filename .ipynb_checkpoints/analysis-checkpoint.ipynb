{
 "cells": [
  {
   "cell_type": "code",
   "execution_count": 1,
   "metadata": {},
   "outputs": [],
   "source": [
    "import numpy as np\n",
    "import pandas as pd\n",
    "import seaborn as sb\n",
    "import sklearn as sklearn\n",
    "import matplotlib.pyplot as plt"
   ]
  },
  {
   "cell_type": "code",
   "execution_count": 223,
   "metadata": {},
   "outputs": [
    {
     "data": {
      "text/html": [
       "<div>\n",
       "<style scoped>\n",
       "    .dataframe tbody tr th:only-of-type {\n",
       "        vertical-align: middle;\n",
       "    }\n",
       "\n",
       "    .dataframe tbody tr th {\n",
       "        vertical-align: top;\n",
       "    }\n",
       "\n",
       "    .dataframe thead th {\n",
       "        text-align: right;\n",
       "    }\n",
       "</style>\n",
       "<table border=\"1\" class=\"dataframe\">\n",
       "  <thead>\n",
       "    <tr style=\"text-align: right;\">\n",
       "      <th></th>\n",
       "      <th>repo</th>\n",
       "      <th>visit_counts</th>\n",
       "    </tr>\n",
       "  </thead>\n",
       "  <tbody>\n",
       "    <tr>\n",
       "      <th>0</th>\n",
       "      <td>resume/resume.github.com</td>\n",
       "      <td>131</td>\n",
       "    </tr>\n",
       "    <tr>\n",
       "      <th>1</th>\n",
       "      <td>twbs/bootstrap</td>\n",
       "      <td>110</td>\n",
       "    </tr>\n",
       "    <tr>\n",
       "      <th>2</th>\n",
       "      <td>facebook/react</td>\n",
       "      <td>98</td>\n",
       "    </tr>\n",
       "    <tr>\n",
       "      <th>3</th>\n",
       "      <td>nodejs/node</td>\n",
       "      <td>95</td>\n",
       "    </tr>\n",
       "    <tr>\n",
       "      <th>4</th>\n",
       "      <td>tensorflow/tensorflow</td>\n",
       "      <td>93</td>\n",
       "    </tr>\n",
       "  </tbody>\n",
       "</table>\n",
       "</div>"
      ],
      "text/plain": [
       "                       repo  visit_counts\n",
       "0  resume/resume.github.com           131\n",
       "1            twbs/bootstrap           110\n",
       "2            facebook/react            98\n",
       "3               nodejs/node            95\n",
       "4     tensorflow/tensorflow            93"
      ]
     },
     "execution_count": 223,
     "metadata": {},
     "output_type": "execute_result"
    }
   ],
   "source": [
    "repos = pd.read_csv(\"results/repos.csv\", header=0)\n",
    "repos[\"repo\"] = repos[\"repo\"].map(lambda x: x[len(\"/repos/\"):])\n",
    "users = pd.read_csv(\"results/users.csv\", header=0)\n",
    "users[\"user_id\"] = users[\"user_id\"].map(lambda x: int(x.lstrip('/users')))\n",
    "repos.head(5)"
   ]
  },
  {
   "cell_type": "code",
   "execution_count": 114,
   "metadata": {},
   "outputs": [
    {
     "data": {
      "text/html": [
       "<div>\n",
       "<style scoped>\n",
       "    .dataframe tbody tr th:only-of-type {\n",
       "        vertical-align: middle;\n",
       "    }\n",
       "\n",
       "    .dataframe tbody tr th {\n",
       "        vertical-align: top;\n",
       "    }\n",
       "\n",
       "    .dataframe thead th {\n",
       "        text-align: right;\n",
       "    }\n",
       "</style>\n",
       "<table border=\"1\" class=\"dataframe\">\n",
       "  <thead>\n",
       "    <tr style=\"text-align: right;\">\n",
       "      <th></th>\n",
       "      <th>repo</th>\n",
       "      <th>visit_counts</th>\n",
       "      <th>stargazers_count</th>\n",
       "      <th>language</th>\n",
       "      <th>forks_count</th>\n",
       "    </tr>\n",
       "  </thead>\n",
       "  <tbody>\n",
       "    <tr>\n",
       "      <th>0</th>\n",
       "      <td>resume/resume.github.com</td>\n",
       "      <td>131</td>\n",
       "      <td>35703</td>\n",
       "      <td>JavaScript</td>\n",
       "      <td>940</td>\n",
       "    </tr>\n",
       "    <tr>\n",
       "      <th>1</th>\n",
       "      <td>twbs/bootstrap</td>\n",
       "      <td>110</td>\n",
       "      <td>123689</td>\n",
       "      <td>CSS</td>\n",
       "      <td>59001</td>\n",
       "    </tr>\n",
       "    <tr>\n",
       "      <th>2</th>\n",
       "      <td>facebook/react</td>\n",
       "      <td>98</td>\n",
       "      <td>93586</td>\n",
       "      <td>JavaScript</td>\n",
       "      <td>17630</td>\n",
       "    </tr>\n",
       "    <tr>\n",
       "      <th>3</th>\n",
       "      <td>nodejs/node</td>\n",
       "      <td>95</td>\n",
       "      <td>47642</td>\n",
       "      <td>JavaScript</td>\n",
       "      <td>10018</td>\n",
       "    </tr>\n",
       "    <tr>\n",
       "      <th>4</th>\n",
       "      <td>tensorflow/tensorflow</td>\n",
       "      <td>93</td>\n",
       "      <td>96424</td>\n",
       "      <td>C++</td>\n",
       "      <td>61369</td>\n",
       "    </tr>\n",
       "  </tbody>\n",
       "</table>\n",
       "</div>"
      ],
      "text/plain": [
       "                       repo  visit_counts  stargazers_count    language  \\\n",
       "0  resume/resume.github.com           131             35703  JavaScript   \n",
       "1            twbs/bootstrap           110            123689         CSS   \n",
       "2            facebook/react            98             93586  JavaScript   \n",
       "3               nodejs/node            95             47642  JavaScript   \n",
       "4     tensorflow/tensorflow            93             96424         C++   \n",
       "\n",
       "   forks_count  \n",
       "0          940  \n",
       "1        59001  \n",
       "2        17630  \n",
       "3        10018  \n",
       "4        61369  "
      ]
     },
     "execution_count": 114,
     "metadata": {},
     "output_type": "execute_result"
    }
   ],
   "source": [
    "repo_info = pd.read_csv(\"results/repostats.csv\")\n",
    "comb_repos = repos.merge(repo_info, how=\"inner\", right_on=\"full_name\", left_on=\"repo\")\n",
    "comb_repos = comb_repos.drop(\"full_name\", axis=1)\n",
    "comb_repos.head(5)"
   ]
  },
  {
   "cell_type": "code",
   "execution_count": null,
   "metadata": {},
   "outputs": [],
   "source": []
  },
  {
   "cell_type": "code",
   "execution_count": 233,
   "metadata": {},
   "outputs": [],
   "source": [
    "top_250_login = set(users.loc[:250, \"user_id\"].tolist())\n",
    "top_250_repo = set(repos.loc[:250, \"repo\"].tolist())"
   ]
  },
  {
   "cell_type": "code",
   "execution_count": 165,
   "metadata": {},
   "outputs": [
    {
     "data": {
      "text/html": [
       "<div>\n",
       "<style scoped>\n",
       "    .dataframe tbody tr th:only-of-type {\n",
       "        vertical-align: middle;\n",
       "    }\n",
       "\n",
       "    .dataframe tbody tr th {\n",
       "        vertical-align: top;\n",
       "    }\n",
       "\n",
       "    .dataframe thead th {\n",
       "        text-align: right;\n",
       "    }\n",
       "</style>\n",
       "<table border=\"1\" class=\"dataframe\">\n",
       "  <thead>\n",
       "    <tr style=\"text-align: right;\">\n",
       "      <th></th>\n",
       "      <th>user_id</th>\n",
       "      <th>visit_counts</th>\n",
       "      <th>login</th>\n",
       "      <th>followers</th>\n",
       "      <th>following</th>\n",
       "      <th>public_repos</th>\n",
       "      <th>contributions</th>\n",
       "    </tr>\n",
       "  </thead>\n",
       "  <tbody>\n",
       "    <tr>\n",
       "      <th>0</th>\n",
       "      <td>170270</td>\n",
       "      <td>512</td>\n",
       "      <td>sindresorhus</td>\n",
       "      <td>24075.0</td>\n",
       "      <td>50.0</td>\n",
       "      <td>984.0</td>\n",
       "      <td>0.0</td>\n",
       "    </tr>\n",
       "    <tr>\n",
       "      <th>1</th>\n",
       "      <td>25254</td>\n",
       "      <td>454</td>\n",
       "      <td>tj</td>\n",
       "      <td>34773.0</td>\n",
       "      <td>47.0</td>\n",
       "      <td>273.0</td>\n",
       "      <td>2933.0</td>\n",
       "    </tr>\n",
       "    <tr>\n",
       "      <th>2</th>\n",
       "      <td>12631</td>\n",
       "      <td>248</td>\n",
       "      <td>substack</td>\n",
       "      <td>12157.0</td>\n",
       "      <td>224.0</td>\n",
       "      <td>928.0</td>\n",
       "      <td>68.0</td>\n",
       "    </tr>\n",
       "    <tr>\n",
       "      <th>3</th>\n",
       "      <td>66577</td>\n",
       "      <td>248</td>\n",
       "      <td>JakeWharton</td>\n",
       "      <td>45515.0</td>\n",
       "      <td>12.0</td>\n",
       "      <td>95.0</td>\n",
       "      <td>2654.0</td>\n",
       "    </tr>\n",
       "    <tr>\n",
       "      <th>4</th>\n",
       "      <td>810438</td>\n",
       "      <td>222</td>\n",
       "      <td>gaearon</td>\n",
       "      <td>27947.0</td>\n",
       "      <td>171.0</td>\n",
       "      <td>227.0</td>\n",
       "      <td>3155.0</td>\n",
       "    </tr>\n",
       "  </tbody>\n",
       "</table>\n",
       "</div>"
      ],
      "text/plain": [
       "   user_id  visit_counts         login  followers  following  public_repos  \\\n",
       "0   170270           512  sindresorhus    24075.0       50.0         984.0   \n",
       "1    25254           454            tj    34773.0       47.0         273.0   \n",
       "2    12631           248      substack    12157.0      224.0         928.0   \n",
       "3    66577           248   JakeWharton    45515.0       12.0          95.0   \n",
       "4   810438           222       gaearon    27947.0      171.0         227.0   \n",
       "\n",
       "   contributions  \n",
       "0            0.0  \n",
       "1         2933.0  \n",
       "2           68.0  \n",
       "3         2654.0  \n",
       "4         3155.0  "
      ]
     },
     "execution_count": 165,
     "metadata": {},
     "output_type": "execute_result"
    }
   ],
   "source": [
    "user_info = pd.read_csv(\"results/userstats.csv\")\n",
    "merg_user = users.merge(user_info, how=\"left\", right_on=\"id\", left_on=\"user_id\")\n",
    "merg_user = merg_user.drop(\"id\", axis=1)\n",
    "user_contributions = pd.read_csv(\"results/contributions.csv\")\n",
    "comb_user = merg_user.merge(user_contributions, how=\"left\", on=\"login\")\n",
    "comb_user = comb_user.fillna(0)\n",
    "comb_user.head(5)"
   ]
  },
  {
   "cell_type": "code",
   "execution_count": 76,
   "metadata": {},
   "outputs": [],
   "source": [
    "repo_counts = repos[\"visit_counts\"].tolist()\n",
    "user_counts = users[\"visit_counts\"].tolist()"
   ]
  },
  {
   "cell_type": "code",
   "execution_count": 28,
   "metadata": {},
   "outputs": [],
   "source": [
    "def make_hist(data, bins, tit, xlab, ylab):\n",
    "    if bins == -1:\n",
    "        plt.hist(data)\n",
    "    else:\n",
    "        plt.hist(data, bins=bins, density=True)\n",
    "    plt.title(tit)\n",
    "    plt.xlabel(xlab)\n",
    "    plt.ylabel(ylab)"
   ]
  },
  {
   "cell_type": "code",
   "execution_count": 35,
   "metadata": {},
   "outputs": [
    {
     "name": "stdout",
     "output_type": "stream",
     "text": [
      "Mean repo visits: 1.7209232886315544\n",
      "Median repo visits: 1.0\n",
      "Max repo visits: 131\n"
     ]
    },
    {
     "data": {
      "image/png": "[encoded data removed]",
      "text/plain": [
       "<matplotlib.figure.Figure at 0x1a1db244e0>"
      ]
     },
     "metadata": {},
     "output_type": "display_data"
    }
   ],
   "source": [
    "# Repo statistics \n",
    "print(\"Mean repo visits:\", np.mean(repo_counts))\n",
    "print(\"Median repo visits:\", np.median(repo_counts))\n",
    "print(\"Max repo visits:\", np.max(repo_counts))\n",
    "make_hist(repo_counts, 20, \"Histogram of repo counts (all)\", \"Number of visits\", \"Proportion of repos\")"
   ]
  },
  {
   "cell_type": "code",
   "execution_count": 174,
   "metadata": {},
   "outputs": [
    {
     "data": {
      "image/png": "[encoded data removed]",
      "text/plain": [
       "<matplotlib.figure.Figure at 0x1a1f0826d8>"
      ]
     },
     "metadata": {},
     "output_type": "display_data"
    }
   ],
   "source": [
    "top_500_repos = repo_counts[:250]\n",
    "make_hist(top_500_repos, 15, \"Histogram of repo counts (top 250)\", \"Number of visits\", \"Proportion of repos\")"
   ]
  },
  {
   "cell_type": "code",
   "execution_count": 32,
   "metadata": {},
   "outputs": [
    {
     "data": {
      "image/png": "[encoded data removed]",
      "text/plain": [
       "<matplotlib.figure.Figure at 0x1a1d7ff940>"
      ]
     },
     "metadata": {},
     "output_type": "display_data"
    }
   ],
   "source": [
    "top_100_repos = repo_counts[:100]\n",
    "make_hist(top_100_repos, 15, \"Histogram of repo counts (top 100)\", \"Number of visits\", \"Proportion of repos\")"
   ]
  },
  {
   "cell_type": "code",
   "execution_count": 41,
   "metadata": {},
   "outputs": [
    {
     "name": "stdout",
     "output_type": "stream",
     "text": [
      "Mean user visits: 2.7351886440044826\n",
      "Median user visits: 1.0\n",
      "Max user visits: 512\n"
     ]
    },
    {
     "data": {
      "image/png": "[encoded data removed]",
      "text/plain": [
       "<matplotlib.figure.Figure at 0x1a1deb6128>"
      ]
     },
     "metadata": {},
     "output_type": "display_data"
    }
   ],
   "source": [
    "# Users statistics\n",
    "print(\"Mean user visits:\", np.mean(user_counts))\n",
    "print(\"Median user visits:\", np.median(user_counts))\n",
    "print(\"Max user visits:\", np.max(user_counts))\n",
    "make_hist(user_counts, 15, \"Histogram of user counts (all)\", \"Number of visits\", \"Proportion of users\")"
   ]
  },
  {
   "cell_type": "code",
   "execution_count": 175,
   "metadata": {},
   "outputs": [
    {
     "data": {
      "image/png": "[encoded data removed]",
      "text/plain": [
       "<matplotlib.figure.Figure at 0x116a37a20>"
      ]
     },
     "metadata": {},
     "output_type": "display_data"
    }
   ],
   "source": [
    "top_500_users = user_counts[:250]\n",
    "make_hist(top_500_users, 15, \"Histogram of user counts (top 250)\", \"Number of visits\", \"Proportion of users\")"
   ]
  },
  {
   "cell_type": "code",
   "execution_count": 45,
   "metadata": {},
   "outputs": [
    {
     "data": {
      "image/png": "[encoded data removed]",
      "text/plain": [
       "<matplotlib.figure.Figure at 0x1a1e1d5240>"
      ]
     },
     "metadata": {},
     "output_type": "display_data"
    }
   ],
   "source": [
    "top_100_users = user_counts[:100]\n",
    "make_hist(top_100_users, 10, \"Histogram of user counts (top 100)\", \"Number of visits\", \"Proportion of users\")"
   ]
  },
  {
   "cell_type": "code",
   "execution_count": null,
   "metadata": {},
   "outputs": [],
   "source": []
  },
  {
   "cell_type": "code",
   "execution_count": 161,
   "metadata": {},
   "outputs": [
    {
     "data": {
      "text/html": [
       "<div>\n",
       "<style scoped>\n",
       "    .dataframe tbody tr th:only-of-type {\n",
       "        vertical-align: middle;\n",
       "    }\n",
       "\n",
       "    .dataframe tbody tr th {\n",
       "        vertical-align: top;\n",
       "    }\n",
       "\n",
       "    .dataframe thead th {\n",
       "        text-align: right;\n",
       "    }\n",
       "</style>\n",
       "<table border=\"1\" class=\"dataframe\">\n",
       "  <thead>\n",
       "    <tr style=\"text-align: right;\">\n",
       "      <th></th>\n",
       "      <th>user_id</th>\n",
       "      <th>visit_counts</th>\n",
       "      <th>our_rank</th>\n",
       "    </tr>\n",
       "  </thead>\n",
       "  <tbody>\n",
       "    <tr>\n",
       "      <th>0</th>\n",
       "      <td>170270</td>\n",
       "      <td>512</td>\n",
       "      <td>1</td>\n",
       "    </tr>\n",
       "    <tr>\n",
       "      <th>1</th>\n",
       "      <td>25254</td>\n",
       "      <td>454</td>\n",
       "      <td>2</td>\n",
       "    </tr>\n",
       "    <tr>\n",
       "      <th>2</th>\n",
       "      <td>12631</td>\n",
       "      <td>248</td>\n",
       "      <td>3</td>\n",
       "    </tr>\n",
       "    <tr>\n",
       "      <th>3</th>\n",
       "      <td>66577</td>\n",
       "      <td>248</td>\n",
       "      <td>4</td>\n",
       "    </tr>\n",
       "    <tr>\n",
       "      <th>4</th>\n",
       "      <td>810438</td>\n",
       "      <td>222</td>\n",
       "      <td>5</td>\n",
       "    </tr>\n",
       "  </tbody>\n",
       "</table>\n",
       "</div>"
      ],
      "text/plain": [
       "   user_id  visit_counts  our_rank\n",
       "0   170270           512         1\n",
       "1    25254           454         2\n",
       "2    12631           248         3\n",
       "3    66577           248         4\n",
       "4   810438           222         5"
      ]
     },
     "execution_count": 161,
     "metadata": {},
     "output_type": "execute_result"
    }
   ],
   "source": [
    "user_rankings = users.copy()\n",
    "user_rankings[\"our_rank\"] = user_rankings.index + 1\n",
    "def compare_user_rank():\n",
    "    return 0\n",
    "user_rankings.head(5)"
   ]
  },
  {
   "cell_type": "code",
   "execution_count": 201,
   "metadata": {},
   "outputs": [
    {
     "data": {
      "text/html": [
       "<div>\n",
       "<style scoped>\n",
       "    .dataframe tbody tr th:only-of-type {\n",
       "        vertical-align: middle;\n",
       "    }\n",
       "\n",
       "    .dataframe tbody tr th {\n",
       "        vertical-align: top;\n",
       "    }\n",
       "\n",
       "    .dataframe thead th {\n",
       "        text-align: right;\n",
       "    }\n",
       "</style>\n",
       "<table border=\"1\" class=\"dataframe\">\n",
       "  <thead>\n",
       "    <tr style=\"text-align: right;\">\n",
       "      <th></th>\n",
       "      <th>user_id</th>\n",
       "      <th>login</th>\n",
       "      <th>our_rank</th>\n",
       "      <th>contr_rank</th>\n",
       "    </tr>\n",
       "  </thead>\n",
       "  <tbody>\n",
       "    <tr>\n",
       "      <th>0</th>\n",
       "      <td>170270</td>\n",
       "      <td>sindresorhus</td>\n",
       "      <td>1</td>\n",
       "      <td>904</td>\n",
       "    </tr>\n",
       "    <tr>\n",
       "      <th>1</th>\n",
       "      <td>25254</td>\n",
       "      <td>tj</td>\n",
       "      <td>2</td>\n",
       "      <td>84</td>\n",
       "    </tr>\n",
       "    <tr>\n",
       "      <th>2</th>\n",
       "      <td>12631</td>\n",
       "      <td>substack</td>\n",
       "      <td>3</td>\n",
       "      <td>537</td>\n",
       "    </tr>\n",
       "    <tr>\n",
       "      <th>3</th>\n",
       "      <td>66577</td>\n",
       "      <td>JakeWharton</td>\n",
       "      <td>4</td>\n",
       "      <td>102</td>\n",
       "    </tr>\n",
       "    <tr>\n",
       "      <th>4</th>\n",
       "      <td>810438</td>\n",
       "      <td>gaearon</td>\n",
       "      <td>5</td>\n",
       "      <td>71</td>\n",
       "    </tr>\n",
       "  </tbody>\n",
       "</table>\n",
       "</div>"
      ],
      "text/plain": [
       "   user_id         login  our_rank  contr_rank\n",
       "0   170270  sindresorhus         1         904\n",
       "1    25254            tj         2          84\n",
       "2    12631      substack         3         537\n",
       "3    66577   JakeWharton         4         102\n",
       "4   810438       gaearon         5          71"
      ]
     },
     "execution_count": 201,
     "metadata": {},
     "output_type": "execute_result"
    }
   ],
   "source": [
    "# Compare our user ranking vs. user ranking based on # of contributions\n",
    "# userid | user | our rank | contri rank\n",
    "sort_by_contr = comb_user.sort_values(\"contributions\", ascending=False)\n",
    "sort_by_contr = sort_by_contr.reset_index()\n",
    "sort_by_contr = sort_by_contr.drop([\"index\"], axis=1)\n",
    "sort_by_contr[\"contr_rank\"] = sort_by_contr.index + 1\n",
    "new_user = user_rankings.merge(sort_by_contr, how=\"inner\", on=\"user_id\")\n",
    "contr_rank = new_user[[\"user_id\", \"login\", \"our_rank\", \"contr_rank\"]]\n",
    "\n",
    "t250_contr_rank = contr_rank[(contr_rank[\"user_id\"].isin(top_250_login)) & (contr_rank[\"contr_rank\"] < 35000)]\n",
    "t250_contr_rank.head(5)"
   ]
  },
  {
   "cell_type": "code",
   "execution_count": 219,
   "metadata": {},
   "outputs": [
    {
     "name": "stdout",
     "output_type": "stream",
     "text": [
      "Correlation is r= 0.17488540389009147\n"
     ]
    },
    {
     "data": {
      "image/png": "[encoded data removed]",
      "text/plain": [
       "<matplotlib.figure.Figure at 0x1a29ca6390>"
      ]
     },
     "metadata": {},
     "output_type": "display_data"
    }
   ],
   "source": [
    "plt.scatter(t250_contr_rank[\"our_rank\"], t250_contr_rank[\"contr_rank\"])\n",
    "plt.title(\"Our ranking vs. Ranking by contributions\")\n",
    "plt.xlabel(\"Our ranking\")\n",
    "plt.ylabel(\"Ranking by contributions\")\n",
    "print(\"Correlation is r=\", t250_contr_rank[\"our_rank\"].corr(t250_contr_rank[\"contr_rank\"]))"
   ]
  },
  {
   "cell_type": "code",
   "execution_count": 221,
   "metadata": {},
   "outputs": [
    {
     "data": {
      "text/html": [
       "<div>\n",
       "<style scoped>\n",
       "    .dataframe tbody tr th:only-of-type {\n",
       "        vertical-align: middle;\n",
       "    }\n",
       "\n",
       "    .dataframe tbody tr th {\n",
       "        vertical-align: top;\n",
       "    }\n",
       "\n",
       "    .dataframe thead th {\n",
       "        text-align: right;\n",
       "    }\n",
       "</style>\n",
       "<table border=\"1\" class=\"dataframe\">\n",
       "  <thead>\n",
       "    <tr style=\"text-align: right;\">\n",
       "      <th></th>\n",
       "      <th>user_id</th>\n",
       "      <th>login</th>\n",
       "      <th>our_rank</th>\n",
       "      <th>f_rank</th>\n",
       "    </tr>\n",
       "  </thead>\n",
       "  <tbody>\n",
       "    <tr>\n",
       "      <th>0</th>\n",
       "      <td>170270</td>\n",
       "      <td>sindresorhus</td>\n",
       "      <td>1</td>\n",
       "      <td>8</td>\n",
       "    </tr>\n",
       "    <tr>\n",
       "      <th>1</th>\n",
       "      <td>25254</td>\n",
       "      <td>tj</td>\n",
       "      <td>2</td>\n",
       "      <td>3</td>\n",
       "    </tr>\n",
       "    <tr>\n",
       "      <th>2</th>\n",
       "      <td>12631</td>\n",
       "      <td>substack</td>\n",
       "      <td>3</td>\n",
       "      <td>24</td>\n",
       "    </tr>\n",
       "    <tr>\n",
       "      <th>3</th>\n",
       "      <td>66577</td>\n",
       "      <td>JakeWharton</td>\n",
       "      <td>4</td>\n",
       "      <td>1</td>\n",
       "    </tr>\n",
       "    <tr>\n",
       "      <th>4</th>\n",
       "      <td>810438</td>\n",
       "      <td>gaearon</td>\n",
       "      <td>5</td>\n",
       "      <td>6</td>\n",
       "    </tr>\n",
       "  </tbody>\n",
       "</table>\n",
       "</div>"
      ],
      "text/plain": [
       "   user_id         login  our_rank  f_rank\n",
       "0   170270  sindresorhus         1       8\n",
       "1    25254            tj         2       3\n",
       "2    12631      substack         3      24\n",
       "3    66577   JakeWharton         4       1\n",
       "4   810438       gaearon         5       6"
      ]
     },
     "execution_count": 221,
     "metadata": {},
     "output_type": "execute_result"
    }
   ],
   "source": [
    "# # Compare our user ranking vs. user ranking based on # of contributions\n",
    "# # userid | user | our rank | contri rank\n",
    "sort_by_f = comb_user.sort_values(\"followers\", ascending=False)\n",
    "sort_by_f = sort_by_f.reset_index()\n",
    "#sort_by_f = sort_by_f.drop([\"index\"], axis=1)\n",
    "sort_by_f[\"f_rank\"] = sort_by_f.index + 1\n",
    "new_user_f = user_rankings.merge(sort_by_f, how=\"inner\", on=\"user_id\")\n",
    "f_rank = new_user_f[[\"user_id\", \"login\", \"our_rank\", \"f_rank\"]]\n",
    "t250_f_rank = f_rank[(f_rank[\"user_id\"].isin(top_250_login)) & (f_rank[\"f_rank\"] < 1000)]\n",
    "\n",
    "t250_f_rank.head(5)"
   ]
  },
  {
   "cell_type": "code",
   "execution_count": 222,
   "metadata": {},
   "outputs": [
    {
     "name": "stdout",
     "output_type": "stream",
     "text": [
      "Correlation is r= 0.4592953096785446\n"
     ]
    },
    {
     "data": {
      "image/png": "[encoded data removed]",
      "text/plain": [
       "<matplotlib.figure.Figure at 0x1a2724c198>"
      ]
     },
     "metadata": {},
     "output_type": "display_data"
    }
   ],
   "source": [
    "plt.scatter(t250_f_rank[\"our_rank\"], t250_f_rank[\"f_rank\"])\n",
    "t250_f_rank[\"our_rank\"].corr(t250_f_rank[\"f_rank\"])\n",
    "plt.title(\"Our ranking vs. Ranking by contributions\")\n",
    "plt.xlabel(\"Our ranking\")\n",
    "plt.ylabel(\"Ranking by contributions\")\n",
    "\n",
    "print(\"Correlation is r=\", t250_f_rank[\"our_rank\"].corr(t250_f_rank[\"f_rank\"]))"
   ]
  },
  {
   "cell_type": "code",
   "execution_count": 230,
   "metadata": {},
   "outputs": [
    {
     "data": {
      "text/html": [
       "<div>\n",
       "<style scoped>\n",
       "    .dataframe tbody tr th:only-of-type {\n",
       "        vertical-align: middle;\n",
       "    }\n",
       "\n",
       "    .dataframe tbody tr th {\n",
       "        vertical-align: top;\n",
       "    }\n",
       "\n",
       "    .dataframe thead th {\n",
       "        text-align: right;\n",
       "    }\n",
       "</style>\n",
       "<table border=\"1\" class=\"dataframe\">\n",
       "  <thead>\n",
       "    <tr style=\"text-align: right;\">\n",
       "      <th></th>\n",
       "      <th>repo</th>\n",
       "      <th>visit_counts</th>\n",
       "      <th>our_rank</th>\n",
       "    </tr>\n",
       "  </thead>\n",
       "  <tbody>\n",
       "    <tr>\n",
       "      <th>0</th>\n",
       "      <td>resume/resume.github.com</td>\n",
       "      <td>131</td>\n",
       "      <td>1</td>\n",
       "    </tr>\n",
       "    <tr>\n",
       "      <th>1</th>\n",
       "      <td>twbs/bootstrap</td>\n",
       "      <td>110</td>\n",
       "      <td>2</td>\n",
       "    </tr>\n",
       "    <tr>\n",
       "      <th>2</th>\n",
       "      <td>facebook/react</td>\n",
       "      <td>98</td>\n",
       "      <td>3</td>\n",
       "    </tr>\n",
       "    <tr>\n",
       "      <th>3</th>\n",
       "      <td>nodejs/node</td>\n",
       "      <td>95</td>\n",
       "      <td>4</td>\n",
       "    </tr>\n",
       "    <tr>\n",
       "      <th>4</th>\n",
       "      <td>tensorflow/tensorflow</td>\n",
       "      <td>93</td>\n",
       "      <td>5</td>\n",
       "    </tr>\n",
       "  </tbody>\n",
       "</table>\n",
       "</div>"
      ],
      "text/plain": [
       "                       repo  visit_counts  our_rank\n",
       "0  resume/resume.github.com           131         1\n",
       "1            twbs/bootstrap           110         2\n",
       "2            facebook/react            98         3\n",
       "3               nodejs/node            95         4\n",
       "4     tensorflow/tensorflow            93         5"
      ]
     },
     "execution_count": 230,
     "metadata": {},
     "output_type": "execute_result"
    }
   ],
   "source": [
    "repo_rankings = repos.copy()\n",
    "repo_rankings[\"our_rank\"] = repo_rankings.index + 1\n",
    "repo_rankings.head(5)"
   ]
  },
  {
   "cell_type": "code",
   "execution_count": 236,
   "metadata": {},
   "outputs": [
    {
     "data": {
      "text/html": [
       "<div>\n",
       "<style scoped>\n",
       "    .dataframe tbody tr th:only-of-type {\n",
       "        vertical-align: middle;\n",
       "    }\n",
       "\n",
       "    .dataframe tbody tr th {\n",
       "        vertical-align: top;\n",
       "    }\n",
       "\n",
       "    .dataframe thead th {\n",
       "        text-align: right;\n",
       "    }\n",
       "</style>\n",
       "<table border=\"1\" class=\"dataframe\">\n",
       "  <thead>\n",
       "    <tr style=\"text-align: right;\">\n",
       "      <th></th>\n",
       "      <th>repo</th>\n",
       "      <th>our_rank</th>\n",
       "      <th>s_rank</th>\n",
       "    </tr>\n",
       "  </thead>\n",
       "  <tbody>\n",
       "    <tr>\n",
       "      <th>0</th>\n",
       "      <td>resume/resume.github.com</td>\n",
       "      <td>1</td>\n",
       "      <td>46</td>\n",
       "    </tr>\n",
       "    <tr>\n",
       "      <th>1</th>\n",
       "      <td>twbs/bootstrap</td>\n",
       "      <td>2</td>\n",
       "      <td>2</td>\n",
       "    </tr>\n",
       "    <tr>\n",
       "      <th>2</th>\n",
       "      <td>facebook/react</td>\n",
       "      <td>3</td>\n",
       "      <td>5</td>\n",
       "    </tr>\n",
       "    <tr>\n",
       "      <th>3</th>\n",
       "      <td>nodejs/node</td>\n",
       "      <td>4</td>\n",
       "      <td>24</td>\n",
       "    </tr>\n",
       "    <tr>\n",
       "      <th>4</th>\n",
       "      <td>tensorflow/tensorflow</td>\n",
       "      <td>5</td>\n",
       "      <td>4</td>\n",
       "    </tr>\n",
       "  </tbody>\n",
       "</table>\n",
       "</div>"
      ],
      "text/plain": [
       "                       repo  our_rank  s_rank\n",
       "0  resume/resume.github.com         1      46\n",
       "1            twbs/bootstrap         2       2\n",
       "2            facebook/react         3       5\n",
       "3               nodejs/node         4      24\n",
       "4     tensorflow/tensorflow         5       4"
      ]
     },
     "execution_count": 236,
     "metadata": {},
     "output_type": "execute_result"
    }
   ],
   "source": [
    "# # Compare our user ranking vs. user ranking based on # of contributions\n",
    "# # userid | user | our rank | contri rank\n",
    "sort_by_star = comb_repos.sort_values(\"stargazers_count\", ascending=False)\n",
    "sort_by_star = sort_by_star.reset_index()\n",
    "sort_by_star = sort_by_star.drop(\"index\", axis=1)\n",
    "sort_by_star[\"s_rank\"] = sort_by_star.index + 1\n",
    "new_star = repo_rankings.merge(sort_by_star, how=\"inner\", on=\"repo\")\n",
    "star_rank = new_star[[\"repo\", \"our_rank\", \"s_rank\"]]\n",
    "t250_s_rank = star_rank[(star_rank[\"repo\"].isin(top_250_repo))]# & (star_rank[\"s_rank\"] < 1000)]\n",
    "\n",
    "# sort_by_f = comb_user.sort_values(\"followers\", ascending=False)\n",
    "# sort_by_f = sort_by_f.reset_index()\n",
    "# #sort_by_f = sort_by_f.drop([\"index\"], axis=1)\n",
    "# sort_by_f[\"f_rank\"] = sort_by_f.index + 1\n",
    "# new_user_f = user_rankings.merge(sort_by_f, how=\"inner\", on=\"user_id\")\n",
    "# f_rank = new_user_f[[\"user_id\", \"login\", \"our_rank\", \"f_rank\"]]\n",
    "# t250_f_rank = f_rank[(f_rank[\"user_id\"].isin(top_250_login)) & (f_rank[\"f_rank\"] < 1000)]\n",
    "\n",
    "# t250_f_rank.head(5)\n",
    "t250_s_rank.head(5)"
   ]
  },
  {
   "cell_type": "code",
   "execution_count": 237,
   "metadata": {},
   "outputs": [
    {
     "name": "stdout",
     "output_type": "stream",
     "text": [
      "Correlation is r= 0.3437280227212541\n"
     ]
    },
    {
     "data": {
      "image/png": "[encoded data removed]",
      "text/plain": [
       "<matplotlib.figure.Figure at 0x1a2abbc390>"
      ]
     },
     "metadata": {},
     "output_type": "display_data"
    }
   ],
   "source": [
    "plt.scatter(t250_s_rank[\"our_rank\"], t250_s_rank[\"s_rank\"])\n",
    "plt.title(\"Our ranking vs. Ranking by stars\")\n",
    "plt.xlabel(\"Our ranking\")\n",
    "plt.ylabel(\"Ranking by stars\")\n",
    "\n",
    "print(\"Correlation is r=\", t250_s_rank[\"our_rank\"].corr(t250_s_rank[\"s_rank\"]))"
   ]
  },
  {
   "cell_type": "code",
   "execution_count": 281,
   "metadata": {},
   "outputs": [
    {
     "data": {
      "text/html": [
       "<div>\n",
       "<style scoped>\n",
       "    .dataframe tbody tr th:only-of-type {\n",
       "        vertical-align: middle;\n",
       "    }\n",
       "\n",
       "    .dataframe tbody tr th {\n",
       "        vertical-align: top;\n",
       "    }\n",
       "\n",
       "    .dataframe thead th {\n",
       "        text-align: right;\n",
       "    }\n",
       "</style>\n",
       "<table border=\"1\" class=\"dataframe\">\n",
       "  <thead>\n",
       "    <tr style=\"text-align: right;\">\n",
       "      <th></th>\n",
       "      <th>Counts</th>\n",
       "      <th>Counts weighted by visits</th>\n",
       "    </tr>\n",
       "    <tr>\n",
       "      <th>language</th>\n",
       "      <th></th>\n",
       "      <th></th>\n",
       "    </tr>\n",
       "  </thead>\n",
       "  <tbody>\n",
       "    <tr>\n",
       "      <th>ActionScript</th>\n",
       "      <td>1</td>\n",
       "      <td>30</td>\n",
       "    </tr>\n",
       "    <tr>\n",
       "      <th>Assembly</th>\n",
       "      <td>1</td>\n",
       "      <td>37</td>\n",
       "    </tr>\n",
       "    <tr>\n",
       "      <th>C</th>\n",
       "      <td>9</td>\n",
       "      <td>289</td>\n",
       "    </tr>\n",
       "    <tr>\n",
       "      <th>C#</th>\n",
       "      <td>3</td>\n",
       "      <td>98</td>\n",
       "    </tr>\n",
       "    <tr>\n",
       "      <th>C++</th>\n",
       "      <td>12</td>\n",
       "      <td>485</td>\n",
       "    </tr>\n",
       "    <tr>\n",
       "      <th>CSS</th>\n",
       "      <td>5</td>\n",
       "      <td>265</td>\n",
       "    </tr>\n",
       "    <tr>\n",
       "      <th>Clojure</th>\n",
       "      <td>1</td>\n",
       "      <td>32</td>\n",
       "    </tr>\n",
       "    <tr>\n",
       "      <th>CoffeeScript</th>\n",
       "      <td>2</td>\n",
       "      <td>64</td>\n",
       "    </tr>\n",
       "    <tr>\n",
       "      <th>Erlang</th>\n",
       "      <td>2</td>\n",
       "      <td>70</td>\n",
       "    </tr>\n",
       "    <tr>\n",
       "      <th>Go</th>\n",
       "      <td>13</td>\n",
       "      <td>472</td>\n",
       "    </tr>\n",
       "    <tr>\n",
       "      <th>HTML</th>\n",
       "      <td>6</td>\n",
       "      <td>173</td>\n",
       "    </tr>\n",
       "    <tr>\n",
       "      <th>Haskell</th>\n",
       "      <td>2</td>\n",
       "      <td>59</td>\n",
       "    </tr>\n",
       "    <tr>\n",
       "      <th>Java</th>\n",
       "      <td>7</td>\n",
       "      <td>184</td>\n",
       "    </tr>\n",
       "    <tr>\n",
       "      <th>JavaScript</th>\n",
       "      <td>89</td>\n",
       "      <td>3255</td>\n",
       "    </tr>\n",
       "    <tr>\n",
       "      <th>Julia</th>\n",
       "      <td>1</td>\n",
       "      <td>24</td>\n",
       "    </tr>\n",
       "    <tr>\n",
       "      <th>Kotlin</th>\n",
       "      <td>2</td>\n",
       "      <td>73</td>\n",
       "    </tr>\n",
       "    <tr>\n",
       "      <th>Lua</th>\n",
       "      <td>1</td>\n",
       "      <td>26</td>\n",
       "    </tr>\n",
       "    <tr>\n",
       "      <th>None</th>\n",
       "      <td>26</td>\n",
       "      <td>884</td>\n",
       "    </tr>\n",
       "    <tr>\n",
       "      <th>OCaml</th>\n",
       "      <td>1</td>\n",
       "      <td>36</td>\n",
       "    </tr>\n",
       "    <tr>\n",
       "      <th>Objective-C</th>\n",
       "      <td>5</td>\n",
       "      <td>133</td>\n",
       "    </tr>\n",
       "    <tr>\n",
       "      <th>Objective-C++</th>\n",
       "      <td>1</td>\n",
       "      <td>30</td>\n",
       "    </tr>\n",
       "    <tr>\n",
       "      <th>PHP</th>\n",
       "      <td>1</td>\n",
       "      <td>31</td>\n",
       "    </tr>\n",
       "    <tr>\n",
       "      <th>Python</th>\n",
       "      <td>19</td>\n",
       "      <td>593</td>\n",
       "    </tr>\n",
       "    <tr>\n",
       "      <th>Racket</th>\n",
       "      <td>1</td>\n",
       "      <td>24</td>\n",
       "    </tr>\n",
       "    <tr>\n",
       "      <th>Ruby</th>\n",
       "      <td>9</td>\n",
       "      <td>283</td>\n",
       "    </tr>\n",
       "    <tr>\n",
       "      <th>Rust</th>\n",
       "      <td>2</td>\n",
       "      <td>107</td>\n",
       "    </tr>\n",
       "    <tr>\n",
       "      <th>Scheme</th>\n",
       "      <td>1</td>\n",
       "      <td>30</td>\n",
       "    </tr>\n",
       "    <tr>\n",
       "      <th>Shell</th>\n",
       "      <td>9</td>\n",
       "      <td>268</td>\n",
       "    </tr>\n",
       "    <tr>\n",
       "      <th>Swift</th>\n",
       "      <td>7</td>\n",
       "      <td>187</td>\n",
       "    </tr>\n",
       "    <tr>\n",
       "      <th>TypeScript</th>\n",
       "      <td>7</td>\n",
       "      <td>310</td>\n",
       "    </tr>\n",
       "    <tr>\n",
       "      <th>Vala</th>\n",
       "      <td>1</td>\n",
       "      <td>25</td>\n",
       "    </tr>\n",
       "    <tr>\n",
       "      <th>Vim script</th>\n",
       "      <td>3</td>\n",
       "      <td>95</td>\n",
       "    </tr>\n",
       "  </tbody>\n",
       "</table>\n",
       "</div>"
      ],
      "text/plain": [
       "               Counts  Counts weighted by visits\n",
       "language                                        \n",
       "ActionScript        1                         30\n",
       "Assembly            1                         37\n",
       "C                   9                        289\n",
       "C#                  3                         98\n",
       "C++                12                        485\n",
       "CSS                 5                        265\n",
       "Clojure             1                         32\n",
       "CoffeeScript        2                         64\n",
       "Erlang              2                         70\n",
       "Go                 13                        472\n",
       "HTML                6                        173\n",
       "Haskell             2                         59\n",
       "Java                7                        184\n",
       "JavaScript         89                       3255\n",
       "Julia               1                         24\n",
       "Kotlin              2                         73\n",
       "Lua                 1                         26\n",
       "None               26                        884\n",
       "OCaml               1                         36\n",
       "Objective-C         5                        133\n",
       "Objective-C++       1                         30\n",
       "PHP                 1                         31\n",
       "Python             19                        593\n",
       "Racket              1                         24\n",
       "Ruby                9                        283\n",
       "Rust                2                        107\n",
       "Scheme              1                         30\n",
       "Shell               9                        268\n",
       "Swift               7                        187\n",
       "TypeScript          7                        310\n",
       "Vala                1                         25\n",
       "Vim script          3                         95"
      ]
     },
     "execution_count": 281,
     "metadata": {},
     "output_type": "execute_result"
    }
   ],
   "source": [
    "lang_count = comb_repos[:250].groupby(\"language\").count()[\"repo\"]\n",
    "#lang_weight = (np.array(lang_count) * np.array(comb_repos[:250][\"visit_counts\"])).tolist()\n",
    "np.array(lang_count)\n",
    "lang_weight = comb_repos[:250].groupby(\"language\").sum()[\"visit_counts\"]\n",
    "\n",
    "comb_weight.head(5)\n",
    "# lang_weighted = comb_weight.groupby(\"language\").sum()\n",
    "# #lang_weighted\n",
    "# comb_repos\n",
    "lang_comp = pd.DataFrame({\"Counts\" : lang_count, \"Counts weighted by visits\" : lang_weight})\n",
    "lang_comp"
   ]
  },
  {
   "cell_type": "code",
   "execution_count": null,
   "metadata": {},
   "outputs": [],
   "source": []
  }
 ],
 "metadata": {
  "kernelspec": {
   "display_name": "Python 3",
   "language": "python",
   "name": "python3"
  }
 },
 "nbformat": 4,
 "nbformat_minor": 2
}
